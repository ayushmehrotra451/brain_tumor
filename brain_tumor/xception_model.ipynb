{
 "cells": [
  {
   "metadata": {
    "ExecuteTime": {
     "end_time": "2025-09-18T11:33:32.519039Z",
     "start_time": "2025-09-18T11:33:32.516312Z"
    }
   },
   "cell_type": "code",
   "source": [
    "import tensorflow as tf\n",
    "\n",
    "gpus = tf.config.list_physical_devices('GPU')\n",
    "if gpus:\n",
    "    try:\n",
    "        # Enable memory growth for the first GPU\n",
    "        tf.config.experimental.set_memory_growth(gpus[0], True)\n",
    "        # Optional: restrict visible devices\n",
    "        tf.config.set_visible_devices(gpus[0], 'GPU')\n",
    "    except RuntimeError as e:\n",
    "        print(e)  # Already initialized\n"
   ],
   "id": "ccd04518a7eab5c9",
   "outputs": [],
   "execution_count": 11
  },
  {
   "cell_type": "code",
   "id": "initial_id",
   "metadata": {
    "collapsed": true,
    "ExecuteTime": {
     "end_time": "2025-09-18T11:33:32.566304Z",
     "start_time": "2025-09-18T11:33:32.563002Z"
    }
   },
   "source": [
    "#imports\n",
    "# For Data Processing\n",
    "import numpy as np\n",
    "from fontTools.subset import subset\n",
    "from sklearn.utils import shuffle\n",
    "from sklearn.model_selection import train_test_split\n",
    "from sklearn.metrics import classification_report\n",
    "\n",
    "# For ML Models\n",
    "from tensorflow import keras\n",
    "import tensorflow as tf\n",
    "from tensorflow.keras.layers import *\n",
    "from tensorflow.keras.losses import *\n",
    "from tensorflow.keras.models import *\n",
    "from tensorflow.keras.metrics import *\n",
    "from tensorflow.keras.optimizers import *\n",
    "from tensorflow.keras.applications import *\n",
    "from tensorflow.keras.utils import load_img\n",
    "from tensorflow.keras.callbacks import EarlyStopping\n",
    "\n",
    "# For Data Visualization\n",
    "import matplotlib.pyplot as plt\n",
    "import seaborn as sns\n",
    "\n",
    "#miscellaneous\n",
    "#from tqdm import tqdm\n",
    "import os\n",
    "import random\n",
    "import numpy as np\n",
    "import random\n",
    "from tensorflow.keras.preprocessing.image import load_img, img_to_array\n",
    "import matplotlib.pyplot as plt\n"
   ],
   "outputs": [],
   "execution_count": 12
  },
  {
   "metadata": {
    "ExecuteTime": {
     "end_time": "2025-09-18T11:33:32.617875Z",
     "start_time": "2025-09-18T11:33:32.614883Z"
    }
   },
   "cell_type": "code",
   "source": "",
   "id": "4a9d8e8edad4f323",
   "outputs": [],
   "execution_count": null
  },
  {
   "metadata": {
    "ExecuteTime": {
     "end_time": "2025-09-18T11:33:32.666761Z",
     "start_time": "2025-09-18T11:33:32.664137Z"
    }
   },
   "cell_type": "code",
   "source": [
    "import tensorflow as tf\n",
    "\n",
    "# TensorFlow version\n",
    "print(\"TensorFlow version:\", tf.__version__)\n",
    "\n",
    "# List available GPUs\n",
    "gpus = tf.config.list_physical_devices('GPU')\n",
    "print(\"GPUs detected:\", gpus)\n"
   ],
   "id": "2b561509f4f806ff",
   "outputs": [
    {
     "name": "stdout",
     "output_type": "stream",
     "text": [
      "TensorFlow version: 2.18.1\n",
      "GPUs detected: [PhysicalDevice(name='/physical_device:GPU:0', device_type='GPU')]\n"
     ]
    }
   ],
   "execution_count": 13
  },
  {
   "metadata": {
    "ExecuteTime": {
     "end_time": "2025-09-18T11:33:33.194830Z",
     "start_time": "2025-09-18T11:33:32.715103Z"
    }
   },
   "cell_type": "code",
   "source": [
    "batch_size = 8\n",
    "img_height = 320\n",
    "img_width = 320\n",
    "data_dir = \"Brain_Tumor_new/Training\"\n",
    "train_ds = tf.keras.utils.image_dataset_from_directory(\n",
    "    data_dir,\n",
    "    labels=\"inferred\",\n",
    "    label_mode=\"categorical\",\n",
    "    batch_size=batch_size,\n",
    "    validation_split=0.2,\n",
    "    subset=\"training\",\n",
    "    seed=123,\n",
    "    image_size=(img_height, img_width),\n",
    ")\n",
    "\n",
    "val_ds = tf.keras.utils.image_dataset_from_directory(\n",
    "    data_dir,\n",
    "    labels=\"inferred\",\n",
    "    label_mode=\"categorical\",\n",
    "    validation_split=0.2,\n",
    "    subset=\"validation\",\n",
    "    seed=123,\n",
    "    image_size=(img_height, img_width),\n",
    "    batch_size=batch_size\n",
    ")\n"
   ],
   "id": "402981d5d8deb54f",
   "outputs": [
    {
     "name": "stdout",
     "output_type": "stream",
     "text": [
      "Found 8582 files belonging to 4 classes.\n",
      "Using 6866 files for training.\n",
      "Found 8582 files belonging to 4 classes.\n",
      "Using 1716 files for validation.\n"
     ]
    }
   ],
   "execution_count": 14
  },
  {
   "metadata": {
    "ExecuteTime": {
     "end_time": "2025-09-18T11:33:33.224738Z",
     "start_time": "2025-09-18T11:33:33.206949Z"
    }
   },
   "cell_type": "code",
   "source": [
    "NUM_CLASSES = 4\n",
    "IMAGE_SIZE_XCEPTION = 299\n",
    "xception_augmentation = tf.keras.Sequential([\n",
    "    tf.keras.layers.RandomZoom(0.15),\n",
    "    tf.keras.layers.RandomTranslation(0.1, 0.1),\n",
    "    tf.keras.layers.RandomCrop(IMAGE_SIZE_XCEPTION, IMAGE_SIZE_XCEPTION),\n",
    "    tf.keras.layers.Resizing(IMAGE_SIZE_XCEPTION, IMAGE_SIZE_XCEPTION)\n",
    "])\n",
    "def preprocess_xception_train(x, y):\n",
    "    x = tf.image.resize(x, [IMAGE_SIZE_XCEPTION, IMAGE_SIZE_XCEPTION])\n",
    "    x = xception_augmentation(x)\n",
    "    x = tf.keras.applications.xception.preprocess_input(x)\n",
    "    return x, y\n",
    "def preprocess_xception_val(x, y):\n",
    "    x = tf.image.resize(x, [IMAGE_SIZE_XCEPTION, IMAGE_SIZE_XCEPTION])\n",
    "    x = tf.keras.applications.xception.preprocess_input(x)\n",
    "    return x, y"
   ],
   "id": "f6e2a74502b43661",
   "outputs": [],
   "execution_count": 15
  },
  {
   "metadata": {
    "ExecuteTime": {
     "end_time": "2025-09-18T11:33:33.397208Z",
     "start_time": "2025-09-18T11:33:33.260352Z"
    }
   },
   "cell_type": "code",
   "source": [
    "from tensorflow.keras.models import Sequential\n",
    "from tensorflow.keras.layers import Flatten, Dense, Dropout\n",
    "from tensorflow.keras.applications import Xception\n",
    "from tensorflow.keras.callbacks import EarlyStopping\n",
    "\n",
    "\n",
    "train_ds_xception = train_ds.map(preprocess_xception_train, num_parallel_calls=tf.data.AUTOTUNE)\n",
    "val_ds_xception   = val_ds.map(preprocess_xception_val, num_parallel_calls=tf.data.AUTOTUNE)\n",
    "\n",
    "train_ds_xception = train_ds_xception.prefetch(tf.data.AUTOTUNE)\n",
    "val_ds_xception   = val_ds_xception.prefetch(tf.data.AUTOTUNE)"
   ],
   "id": "b24f73db0755df5b",
   "outputs": [],
   "execution_count": 16
  },
  {
   "metadata": {
    "ExecuteTime": {
     "end_time": "2025-09-18T11:33:33.407690Z",
     "start_time": "2025-09-18T11:33:33.404750Z"
    }
   },
   "cell_type": "code",
   "source": [
    "train_batches = tf.data.experimental.cardinality(train_ds_xception).numpy()\n",
    "print(\"Number of batches in train_ds:\", train_batches)\n",
    "\n",
    "num_train_samples = train_batches * batch_size\n",
    "print(\"Estimated number of training samples:\", num_train_samples)"
   ],
   "id": "8cceb65a4a2c3f10",
   "outputs": [
    {
     "name": "stdout",
     "output_type": "stream",
     "text": [
      "Number of batches in train_ds: 859\n",
      "Estimated number of training samples: 6872\n"
     ]
    }
   ],
   "execution_count": 17
  },
  {
   "metadata": {
    "ExecuteTime": {
     "end_time": "2025-09-18T11:33:34.149761Z",
     "start_time": "2025-09-18T11:33:33.454723Z"
    }
   },
   "cell_type": "code",
   "source": [
    "from tensorflow.keras.applications import Xception\n",
    "base_model = Xception(\n",
    "    include_top=False,\n",
    "    weights=\"xception_weights_tf_dim_ordering_tf_kernels_notop.h5\",\n",
    "    input_shape=(IMAGE_SIZE_XCEPTION, IMAGE_SIZE_XCEPTION, 3),\n",
    "    pooling='max'\n",
    ")\n",
    "base_model.trainable = False  # freeze base\n",
    "\n",
    "\n",
    "model = Sequential([\n",
    "    base_model,\n",
    "    Flatten(),\n",
    "    Dropout(0.3),\n",
    "    Dense(128, activation='relu'),\n",
    "    Dropout(0.25),\n",
    "    Dense(NUM_CLASSES, activation='softmax')\n",
    "])\n",
    "\n",
    "early_stop = EarlyStopping(\n",
    "    monitor='val_loss',       # or 'val_accuracy' if you prefer\n",
    "    patience=3,               # number of epochs with no improvement to wait\n",
    "    restore_best_weights=True # restore model weights from the epoch with the best value\n",
    ")"
   ],
   "id": "7d1e8a98a0680845",
   "outputs": [],
   "execution_count": 18
  },
  {
   "metadata": {
    "ExecuteTime": {
     "end_time": "2025-09-18T11:45:30.795089Z",
     "start_time": "2025-09-18T11:33:34.162229Z"
    }
   },
   "cell_type": "code",
   "source": [
    "from tensorflow.keras.callbacks import ModelCheckpoint\n",
    "\n",
    "checkpoint = ModelCheckpoint(\n",
    "    \"xception_before_unfreezing.h5\", \n",
    "    monitor=\"val_loss\", \n",
    "    save_best_only=True,\n",
    "    verbose=1\n",
    ")\n",
    "\n",
    "model.compile(\n",
    "    optimizer=Adam(learning_rate=1e-3),\n",
    "    loss='categorical_crossentropy',\n",
    "    metrics=['accuracy']\n",
    ")\n",
    "\n",
    "history = model.fit(\n",
    "    train_ds_xception,\n",
    "    validation_data=val_ds_xception,\n",
    "    epochs=10,\n",
    "    batch_size=batch_size,\n",
    "    callbacks=[early_stop, checkpoint],\n",
    "    verbose=1\n",
    ")"
   ],
   "id": "2b4a9da8d0c70ad5",
   "outputs": [
    {
     "name": "stdout",
     "output_type": "stream",
     "text": [
      "Epoch 1/10\n",
      "\u001B[1m859/859\u001B[0m \u001B[32m━━━━━━━━━━━━━━━━━━━━\u001B[0m\u001B[37m\u001B[0m \u001B[1m0s\u001B[0m 68ms/step - accuracy: 0.6535 - loss: 0.9534\n",
      "Epoch 1: val_loss improved from None to 0.41581, saving model to xception_before_unfreezing.h5\n"
     ]
    },
    {
     "name": "stderr",
     "output_type": "stream",
     "text": [
      "WARNING:absl:You are saving your model as an HDF5 file via `model.save()` or `keras.saving.save_model(model)`. This file format is considered legacy. We recommend using instead the native Keras format, e.g. `model.save('my_model.keras')` or `keras.saving.save_model(model, 'my_model.keras')`. \n"
     ]
    },
    {
     "name": "stdout",
     "output_type": "stream",
     "text": [
      "\u001B[1m859/859\u001B[0m \u001B[32m━━━━━━━━━━━━━━━━━━━━\u001B[0m\u001B[37m\u001B[0m \u001B[1m80s\u001B[0m 87ms/step - accuracy: 0.7357 - loss: 0.6900 - val_accuracy: 0.8438 - val_loss: 0.4158\n",
      "Epoch 2/10\n",
      "\u001B[1m858/859\u001B[0m \u001B[32m━━━━━━━━━━━━━━━━━━━\u001B[0m\u001B[37m━\u001B[0m \u001B[1m0s\u001B[0m 65ms/step - accuracy: 0.7920 - loss: 0.5438\n",
      "Epoch 2: val_loss improved from 0.41581 to 0.34420, saving model to xception_before_unfreezing.h5\n"
     ]
    },
    {
     "name": "stderr",
     "output_type": "stream",
     "text": [
      "WARNING:absl:You are saving your model as an HDF5 file via `model.save()` or `keras.saving.save_model(model)`. This file format is considered legacy. We recommend using instead the native Keras format, e.g. `model.save('my_model.keras')` or `keras.saving.save_model(model, 'my_model.keras')`. \n"
     ]
    },
    {
     "name": "stdout",
     "output_type": "stream",
     "text": [
      "\u001B[1m859/859\u001B[0m \u001B[32m━━━━━━━━━━━━━━━━━━━━\u001B[0m\u001B[37m\u001B[0m \u001B[1m70s\u001B[0m 81ms/step - accuracy: 0.8009 - loss: 0.5098 - val_accuracy: 0.8741 - val_loss: 0.3442\n",
      "Epoch 3/10\n",
      "\u001B[1m858/859\u001B[0m \u001B[32m━━━━━━━━━━━━━━━━━━━\u001B[0m\u001B[37m━\u001B[0m \u001B[1m0s\u001B[0m 65ms/step - accuracy: 0.8073 - loss: 0.4766\n",
      "Epoch 3: val_loss did not improve from 0.34420\n",
      "\u001B[1m859/859\u001B[0m \u001B[32m━━━━━━━━━━━━━━━━━━━━\u001B[0m\u001B[37m\u001B[0m \u001B[1m69s\u001B[0m 80ms/step - accuracy: 0.8188 - loss: 0.4571 - val_accuracy: 0.8479 - val_loss: 0.3879\n",
      "Epoch 4/10\n",
      "\u001B[1m858/859\u001B[0m \u001B[32m━━━━━━━━━━━━━━━━━━━\u001B[0m\u001B[37m━\u001B[0m \u001B[1m0s\u001B[0m 65ms/step - accuracy: 0.8215 - loss: 0.4488\n",
      "Epoch 4: val_loss improved from 0.34420 to 0.29336, saving model to xception_before_unfreezing.h5\n"
     ]
    },
    {
     "name": "stderr",
     "output_type": "stream",
     "text": [
      "WARNING:absl:You are saving your model as an HDF5 file via `model.save()` or `keras.saving.save_model(model)`. This file format is considered legacy. We recommend using instead the native Keras format, e.g. `model.save('my_model.keras')` or `keras.saving.save_model(model, 'my_model.keras')`. \n"
     ]
    },
    {
     "name": "stdout",
     "output_type": "stream",
     "text": [
      "\u001B[1m859/859\u001B[0m \u001B[32m━━━━━━━━━━━━━━━━━━━━\u001B[0m\u001B[37m\u001B[0m \u001B[1m69s\u001B[0m 80ms/step - accuracy: 0.8238 - loss: 0.4425 - val_accuracy: 0.8846 - val_loss: 0.2934\n",
      "Epoch 5/10\n",
      "\u001B[1m858/859\u001B[0m \u001B[32m━━━━━━━━━━━━━━━━━━━\u001B[0m\u001B[37m━\u001B[0m \u001B[1m0s\u001B[0m 64ms/step - accuracy: 0.8297 - loss: 0.4257\n",
      "Epoch 5: val_loss improved from 0.29336 to 0.29025, saving model to xception_before_unfreezing.h5\n"
     ]
    },
    {
     "name": "stderr",
     "output_type": "stream",
     "text": [
      "WARNING:absl:You are saving your model as an HDF5 file via `model.save()` or `keras.saving.save_model(model)`. This file format is considered legacy. We recommend using instead the native Keras format, e.g. `model.save('my_model.keras')` or `keras.saving.save_model(model, 'my_model.keras')`. \n"
     ]
    },
    {
     "name": "stdout",
     "output_type": "stream",
     "text": [
      "\u001B[1m859/859\u001B[0m \u001B[32m━━━━━━━━━━━━━━━━━━━━\u001B[0m\u001B[37m\u001B[0m \u001B[1m68s\u001B[0m 79ms/step - accuracy: 0.8439 - loss: 0.4050 - val_accuracy: 0.8980 - val_loss: 0.2903\n",
      "Epoch 6/10\n",
      "\u001B[1m858/859\u001B[0m \u001B[32m━━━━━━━━━━━━━━━━━━━\u001B[0m\u001B[37m━\u001B[0m \u001B[1m0s\u001B[0m 71ms/step - accuracy: 0.8373 - loss: 0.4315\n",
      "Epoch 6: val_loss did not improve from 0.29025\n",
      "\u001B[1m859/859\u001B[0m \u001B[32m━━━━━━━━━━━━━━━━━━━━\u001B[0m\u001B[37m\u001B[0m \u001B[1m75s\u001B[0m 87ms/step - accuracy: 0.8405 - loss: 0.4121 - val_accuracy: 0.8875 - val_loss: 0.3151\n",
      "Epoch 7/10\n",
      "\u001B[1m858/859\u001B[0m \u001B[32m━━━━━━━━━━━━━━━━━━━\u001B[0m\u001B[37m━\u001B[0m \u001B[1m0s\u001B[0m 72ms/step - accuracy: 0.8404 - loss: 0.4100\n",
      "Epoch 7: val_loss improved from 0.29025 to 0.26698, saving model to xception_before_unfreezing.h5\n"
     ]
    },
    {
     "name": "stderr",
     "output_type": "stream",
     "text": [
      "WARNING:absl:You are saving your model as an HDF5 file via `model.save()` or `keras.saving.save_model(model)`. This file format is considered legacy. We recommend using instead the native Keras format, e.g. `model.save('my_model.keras')` or `keras.saving.save_model(model, 'my_model.keras')`. \n"
     ]
    },
    {
     "name": "stdout",
     "output_type": "stream",
     "text": [
      "\u001B[1m859/859\u001B[0m \u001B[32m━━━━━━━━━━━━━━━━━━━━\u001B[0m\u001B[37m\u001B[0m \u001B[1m78s\u001B[0m 90ms/step - accuracy: 0.8479 - loss: 0.3924 - val_accuracy: 0.8963 - val_loss: 0.2670\n",
      "Epoch 8/10\n",
      "\u001B[1m858/859\u001B[0m \u001B[32m━━━━━━━━━━━━━━━━━━━\u001B[0m\u001B[37m━\u001B[0m \u001B[1m0s\u001B[0m 66ms/step - accuracy: 0.8569 - loss: 0.3805\n",
      "Epoch 8: val_loss did not improve from 0.26698\n",
      "\u001B[1m859/859\u001B[0m \u001B[32m━━━━━━━━━━━━━━━━━━━━\u001B[0m\u001B[37m\u001B[0m \u001B[1m70s\u001B[0m 82ms/step - accuracy: 0.8522 - loss: 0.3902 - val_accuracy: 0.8899 - val_loss: 0.2901\n",
      "Epoch 9/10\n",
      "\u001B[1m858/859\u001B[0m \u001B[32m━━━━━━━━━━━━━━━━━━━\u001B[0m\u001B[37m━\u001B[0m \u001B[1m0s\u001B[0m 63ms/step - accuracy: 0.8530 - loss: 0.3842\n",
      "Epoch 9: val_loss improved from 0.26698 to 0.26629, saving model to xception_before_unfreezing.h5\n"
     ]
    },
    {
     "name": "stderr",
     "output_type": "stream",
     "text": [
      "WARNING:absl:You are saving your model as an HDF5 file via `model.save()` or `keras.saving.save_model(model)`. This file format is considered legacy. We recommend using instead the native Keras format, e.g. `model.save('my_model.keras')` or `keras.saving.save_model(model, 'my_model.keras')`. \n"
     ]
    },
    {
     "name": "stdout",
     "output_type": "stream",
     "text": [
      "\u001B[1m859/859\u001B[0m \u001B[32m━━━━━━━━━━━━━━━━━━━━\u001B[0m\u001B[37m\u001B[0m \u001B[1m68s\u001B[0m 79ms/step - accuracy: 0.8579 - loss: 0.3782 - val_accuracy: 0.8963 - val_loss: 0.2663\n",
      "Epoch 10/10\n",
      "\u001B[1m858/859\u001B[0m \u001B[32m━━━━━━━━━━━━━━━━━━━\u001B[0m\u001B[37m━\u001B[0m \u001B[1m0s\u001B[0m 64ms/step - accuracy: 0.8656 - loss: 0.3535\n",
      "Epoch 10: val_loss did not improve from 0.26629\n",
      "\u001B[1m859/859\u001B[0m \u001B[32m━━━━━━━━━━━━━━━━━━━━\u001B[0m\u001B[37m\u001B[0m \u001B[1m69s\u001B[0m 80ms/step - accuracy: 0.8651 - loss: 0.3510 - val_accuracy: 0.9009 - val_loss: 0.2760\n"
     ]
    }
   ],
   "execution_count": 19
  },
  {
   "metadata": {
    "ExecuteTime": {
     "end_time": "2025-09-18T11:45:31.381555Z",
     "start_time": "2025-09-18T11:45:30.856221Z"
    }
   },
   "cell_type": "code",
   "source": [
    "import tensorflow as tf\n",
    "from tensorflow.keras.models import Sequential\n",
    "from tensorflow.keras.layers import Flatten, Dense, Dropout\n",
    "from tensorflow.keras.applications import Xception\n",
    "from tensorflow.keras.optimizers import Adam\n",
    "from tensorflow.keras.callbacks import Callback, EarlyStopping, ReduceLROnPlateau\n",
    "import matplotlib.pyplot as plt\n",
    "trainable = 30\n",
    "# -------------------------------\n",
    "# 1. Load previously trained top model\n",
    "# -------------------------------\n",
    "xception_finetune = load_model(\"xception_before_unfreezing.h5\")\n",
    "for layer in xception_finetune .layers[:(len(xception_finetune.layers) - trainable)]:\n",
    "    layer.trainable = False\n",
    "\n",
    "for layer in xception_finetune.layers[(len(xception_finetune.layers) - trainable):]:\n",
    "    layer.trainable = True\n",
    "\n",
    "xception_finetune.compile(\n",
    "    optimizer=Adam(learning_rate=1e-7),\n",
    "    loss=\"categorical_crossentropy\",\n",
    "    metrics=[\"accuracy\"]\n",
    ")\n"
   ],
   "id": "b9a642ba2b7e5356",
   "outputs": [
    {
     "name": "stderr",
     "output_type": "stream",
     "text": [
      "WARNING:absl:Compiled the loaded model, but the compiled metrics have yet to be built. `model.compile_metrics` will be empty until you train or evaluate the model.\n"
     ]
    }
   ],
   "execution_count": 20
  },
  {
   "metadata": {
    "ExecuteTime": {
     "end_time": "2025-09-18T11:50:40.299569Z",
     "start_time": "2025-09-18T11:50:39.760655Z"
    }
   },
   "cell_type": "code",
   "source": [
    "xception_finetune = load_model(\"xception_before_unfreezing.h5\")\n",
    "xception_finetune.summary()\n"
   ],
   "id": "c2a971eeaa78fbd6",
   "outputs": [
    {
     "name": "stderr",
     "output_type": "stream",
     "text": [
      "WARNING:absl:Compiled the loaded model, but the compiled metrics have yet to be built. `model.compile_metrics` will be empty until you train or evaluate the model.\n"
     ]
    },
    {
     "data": {
      "text/plain": [
       "\u001B[1mModel: \"sequential_3\"\u001B[0m\n"
      ],
      "text/html": [
       "<pre style=\"white-space:pre;overflow-x:auto;line-height:normal;font-family:Menlo,'DejaVu Sans Mono',consolas,'Courier New',monospace\"><span style=\"font-weight: bold\">Model: \"sequential_3\"</span>\n",
       "</pre>\n"
      ]
     },
     "metadata": {},
     "output_type": "display_data",
     "jetTransient": {
      "display_id": null
     }
    },
    {
     "data": {
      "text/plain": [
       "┏━━━━━━━━━━━━━━━━━━━━━━━━━━━━━━━━━┳━━━━━━━━━━━━━━━━━━━━━━━━┳━━━━━━━━━━━━━━━┓\n",
       "┃\u001B[1m \u001B[0m\u001B[1mLayer (type)                   \u001B[0m\u001B[1m \u001B[0m┃\u001B[1m \u001B[0m\u001B[1mOutput Shape          \u001B[0m\u001B[1m \u001B[0m┃\u001B[1m \u001B[0m\u001B[1m      Param #\u001B[0m\u001B[1m \u001B[0m┃\n",
       "┡━━━━━━━━━━━━━━━━━━━━━━━━━━━━━━━━━╇━━━━━━━━━━━━━━━━━━━━━━━━╇━━━━━━━━━━━━━━━┩\n",
       "│ xception (\u001B[38;5;33mFunctional\u001B[0m)           │ (\u001B[38;5;45mNone\u001B[0m, \u001B[38;5;34m2048\u001B[0m)           │    \u001B[38;5;34m20,861,480\u001B[0m │\n",
       "├─────────────────────────────────┼────────────────────────┼───────────────┤\n",
       "│ flatten_1 (\u001B[38;5;33mFlatten\u001B[0m)             │ (\u001B[38;5;45mNone\u001B[0m, \u001B[38;5;34m2048\u001B[0m)           │             \u001B[38;5;34m0\u001B[0m │\n",
       "├─────────────────────────────────┼────────────────────────┼───────────────┤\n",
       "│ dropout_2 (\u001B[38;5;33mDropout\u001B[0m)             │ (\u001B[38;5;45mNone\u001B[0m, \u001B[38;5;34m2048\u001B[0m)           │             \u001B[38;5;34m0\u001B[0m │\n",
       "├─────────────────────────────────┼────────────────────────┼───────────────┤\n",
       "│ dense_2 (\u001B[38;5;33mDense\u001B[0m)                 │ (\u001B[38;5;45mNone\u001B[0m, \u001B[38;5;34m128\u001B[0m)            │       \u001B[38;5;34m262,272\u001B[0m │\n",
       "├─────────────────────────────────┼────────────────────────┼───────────────┤\n",
       "│ dropout_3 (\u001B[38;5;33mDropout\u001B[0m)             │ (\u001B[38;5;45mNone\u001B[0m, \u001B[38;5;34m128\u001B[0m)            │             \u001B[38;5;34m0\u001B[0m │\n",
       "├─────────────────────────────────┼────────────────────────┼───────────────┤\n",
       "│ dense_3 (\u001B[38;5;33mDense\u001B[0m)                 │ (\u001B[38;5;45mNone\u001B[0m, \u001B[38;5;34m4\u001B[0m)              │           \u001B[38;5;34m516\u001B[0m │\n",
       "└─────────────────────────────────┴────────────────────────┴───────────────┘\n"
      ],
      "text/html": [
       "<pre style=\"white-space:pre;overflow-x:auto;line-height:normal;font-family:Menlo,'DejaVu Sans Mono',consolas,'Courier New',monospace\">┏━━━━━━━━━━━━━━━━━━━━━━━━━━━━━━━━━┳━━━━━━━━━━━━━━━━━━━━━━━━┳━━━━━━━━━━━━━━━┓\n",
       "┃<span style=\"font-weight: bold\"> Layer (type)                    </span>┃<span style=\"font-weight: bold\"> Output Shape           </span>┃<span style=\"font-weight: bold\">       Param # </span>┃\n",
       "┡━━━━━━━━━━━━━━━━━━━━━━━━━━━━━━━━━╇━━━━━━━━━━━━━━━━━━━━━━━━╇━━━━━━━━━━━━━━━┩\n",
       "│ xception (<span style=\"color: #0087ff; text-decoration-color: #0087ff\">Functional</span>)           │ (<span style=\"color: #00d7ff; text-decoration-color: #00d7ff\">None</span>, <span style=\"color: #00af00; text-decoration-color: #00af00\">2048</span>)           │    <span style=\"color: #00af00; text-decoration-color: #00af00\">20,861,480</span> │\n",
       "├─────────────────────────────────┼────────────────────────┼───────────────┤\n",
       "│ flatten_1 (<span style=\"color: #0087ff; text-decoration-color: #0087ff\">Flatten</span>)             │ (<span style=\"color: #00d7ff; text-decoration-color: #00d7ff\">None</span>, <span style=\"color: #00af00; text-decoration-color: #00af00\">2048</span>)           │             <span style=\"color: #00af00; text-decoration-color: #00af00\">0</span> │\n",
       "├─────────────────────────────────┼────────────────────────┼───────────────┤\n",
       "│ dropout_2 (<span style=\"color: #0087ff; text-decoration-color: #0087ff\">Dropout</span>)             │ (<span style=\"color: #00d7ff; text-decoration-color: #00d7ff\">None</span>, <span style=\"color: #00af00; text-decoration-color: #00af00\">2048</span>)           │             <span style=\"color: #00af00; text-decoration-color: #00af00\">0</span> │\n",
       "├─────────────────────────────────┼────────────────────────┼───────────────┤\n",
       "│ dense_2 (<span style=\"color: #0087ff; text-decoration-color: #0087ff\">Dense</span>)                 │ (<span style=\"color: #00d7ff; text-decoration-color: #00d7ff\">None</span>, <span style=\"color: #00af00; text-decoration-color: #00af00\">128</span>)            │       <span style=\"color: #00af00; text-decoration-color: #00af00\">262,272</span> │\n",
       "├─────────────────────────────────┼────────────────────────┼───────────────┤\n",
       "│ dropout_3 (<span style=\"color: #0087ff; text-decoration-color: #0087ff\">Dropout</span>)             │ (<span style=\"color: #00d7ff; text-decoration-color: #00d7ff\">None</span>, <span style=\"color: #00af00; text-decoration-color: #00af00\">128</span>)            │             <span style=\"color: #00af00; text-decoration-color: #00af00\">0</span> │\n",
       "├─────────────────────────────────┼────────────────────────┼───────────────┤\n",
       "│ dense_3 (<span style=\"color: #0087ff; text-decoration-color: #0087ff\">Dense</span>)                 │ (<span style=\"color: #00d7ff; text-decoration-color: #00d7ff\">None</span>, <span style=\"color: #00af00; text-decoration-color: #00af00\">4</span>)              │           <span style=\"color: #00af00; text-decoration-color: #00af00\">516</span> │\n",
       "└─────────────────────────────────┴────────────────────────┴───────────────┘\n",
       "</pre>\n"
      ]
     },
     "metadata": {},
     "output_type": "display_data",
     "jetTransient": {
      "display_id": null
     }
    },
    {
     "data": {
      "text/plain": [
       "\u001B[1m Total params: \u001B[0m\u001B[38;5;34m21,124,270\u001B[0m (80.58 MB)\n"
      ],
      "text/html": [
       "<pre style=\"white-space:pre;overflow-x:auto;line-height:normal;font-family:Menlo,'DejaVu Sans Mono',consolas,'Courier New',monospace\"><span style=\"font-weight: bold\"> Total params: </span><span style=\"color: #00af00; text-decoration-color: #00af00\">21,124,270</span> (80.58 MB)\n",
       "</pre>\n"
      ]
     },
     "metadata": {},
     "output_type": "display_data",
     "jetTransient": {
      "display_id": null
     }
    },
    {
     "data": {
      "text/plain": [
       "\u001B[1m Trainable params: \u001B[0m\u001B[38;5;34m262,788\u001B[0m (1.00 MB)\n"
      ],
      "text/html": [
       "<pre style=\"white-space:pre;overflow-x:auto;line-height:normal;font-family:Menlo,'DejaVu Sans Mono',consolas,'Courier New',monospace\"><span style=\"font-weight: bold\"> Trainable params: </span><span style=\"color: #00af00; text-decoration-color: #00af00\">262,788</span> (1.00 MB)\n",
       "</pre>\n"
      ]
     },
     "metadata": {},
     "output_type": "display_data",
     "jetTransient": {
      "display_id": null
     }
    },
    {
     "data": {
      "text/plain": [
       "\u001B[1m Non-trainable params: \u001B[0m\u001B[38;5;34m20,861,480\u001B[0m (79.58 MB)\n"
      ],
      "text/html": [
       "<pre style=\"white-space:pre;overflow-x:auto;line-height:normal;font-family:Menlo,'DejaVu Sans Mono',consolas,'Courier New',monospace\"><span style=\"font-weight: bold\"> Non-trainable params: </span><span style=\"color: #00af00; text-decoration-color: #00af00\">20,861,480</span> (79.58 MB)\n",
       "</pre>\n"
      ]
     },
     "metadata": {},
     "output_type": "display_data",
     "jetTransient": {
      "display_id": null
     }
    },
    {
     "data": {
      "text/plain": [
       "\u001B[1m Optimizer params: \u001B[0m\u001B[38;5;34m2\u001B[0m (12.00 B)\n"
      ],
      "text/html": [
       "<pre style=\"white-space:pre;overflow-x:auto;line-height:normal;font-family:Menlo,'DejaVu Sans Mono',consolas,'Courier New',monospace\"><span style=\"font-weight: bold\"> Optimizer params: </span><span style=\"color: #00af00; text-decoration-color: #00af00\">2</span> (12.00 B)\n",
       "</pre>\n"
      ]
     },
     "metadata": {},
     "output_type": "display_data",
     "jetTransient": {
      "display_id": null
     }
    }
   ],
   "execution_count": 23
  },
  {
   "metadata": {
    "ExecuteTime": {
     "end_time": "2025-09-18T12:08:02.528911Z",
     "start_time": "2025-09-18T11:53:40.722189Z"
    }
   },
   "cell_type": "code",
   "source": [
    "xception_finetune = load_model(\"xception_before_unfreezing.h5\")\n",
    "\n",
    "# Get the base Xception model (first layer of Sequential)\n",
    "base_model = xception_finetune.layers[0]\n",
    "\n",
    "# Freeze everything first\n",
    "for layer in base_model.layers:\n",
    "    layer.trainable = False\n",
    "\n",
    "#\n",
    "for layer in base_model.layers[-20:]:\n",
    "    layer.trainable = True\n",
    "\n",
    "from tensorflow.keras.optimizers import Adam\n",
    "from tensorflow.keras.callbacks import EarlyStopping, ReduceLROnPlateau, ModelCheckpoint\n",
    "\n",
    "checkpoint_after_finetune = ModelCheckpoint(\n",
    "    \"xception_after_unfreezing_final.h5\",\n",
    "    monitor=\"val_loss\",\n",
    "    save_best_only=True,\n",
    "    verbose=1\n",
    ")\n",
    "\n",
    "early_stop = EarlyStopping(\n",
    "    monitor=\"val_loss\",\n",
    "    patience=3,\n",
    "    restore_best_weights=True\n",
    ")\n",
    "\n",
    "xception_finetune.compile(\n",
    "    optimizer=Adam(learning_rate=1e-4),\n",
    "    loss=\"categorical_crossentropy\",\n",
    "    metrics=[\"accuracy\"]\n",
    ")\n",
    "\n",
    "history_after_unfreeze = xception_finetune.fit(\n",
    "    train_ds_xception,\n",
    "    validation_data=val_ds_xception,\n",
    "    epochs=20,\n",
    "    callbacks=[early_stop, checkpoint_after_finetune],\n",
    "    verbose=1\n",
    ")\n"
   ],
   "id": "b1ddf9d1d445e083",
   "outputs": [
    {
     "name": "stderr",
     "output_type": "stream",
     "text": [
      "WARNING:absl:Compiled the loaded model, but the compiled metrics have yet to be built. `model.compile_metrics` will be empty until you train or evaluate the model.\n"
     ]
    },
    {
     "name": "stdout",
     "output_type": "stream",
     "text": [
      "Epoch 1/20\n",
      "\u001B[1m859/859\u001B[0m \u001B[32m━━━━━━━━━━━━━━━━━━━━\u001B[0m\u001B[37m\u001B[0m \u001B[1m0s\u001B[0m 84ms/step - accuracy: 0.8105 - loss: 0.5265\n",
      "Epoch 1: val_loss improved from None to 0.12599, saving model to xception_after_unfreezing_final.h5\n"
     ]
    },
    {
     "name": "stderr",
     "output_type": "stream",
     "text": [
      "WARNING:absl:You are saving your model as an HDF5 file via `model.save()` or `keras.saving.save_model(model)`. This file format is considered legacy. We recommend using instead the native Keras format, e.g. `model.save('my_model.keras')` or `keras.saving.save_model(model, 'my_model.keras')`. \n"
     ]
    },
    {
     "name": "stdout",
     "output_type": "stream",
     "text": [
      "\u001B[1m859/859\u001B[0m \u001B[32m━━━━━━━━━━━━━━━━━━━━\u001B[0m\u001B[37m\u001B[0m \u001B[1m96s\u001B[0m 103ms/step - accuracy: 0.8657 - loss: 0.3648 - val_accuracy: 0.9493 - val_loss: 0.1260\n",
      "Epoch 2/20\n",
      "\u001B[1m858/859\u001B[0m \u001B[32m━━━━━━━━━━━━━━━━━━━\u001B[0m\u001B[37m━\u001B[0m \u001B[1m0s\u001B[0m 83ms/step - accuracy: 0.9287 - loss: 0.2007\n",
      "Epoch 2: val_loss improved from 0.12599 to 0.08203, saving model to xception_after_unfreezing_final.h5\n"
     ]
    },
    {
     "name": "stderr",
     "output_type": "stream",
     "text": [
      "WARNING:absl:You are saving your model as an HDF5 file via `model.save()` or `keras.saving.save_model(model)`. This file format is considered legacy. We recommend using instead the native Keras format, e.g. `model.save('my_model.keras')` or `keras.saving.save_model(model, 'my_model.keras')`. \n"
     ]
    },
    {
     "name": "stdout",
     "output_type": "stream",
     "text": [
      "\u001B[1m859/859\u001B[0m \u001B[32m━━━━━━━━━━━━━━━━━━━━\u001B[0m\u001B[37m\u001B[0m \u001B[1m85s\u001B[0m 99ms/step - accuracy: 0.9375 - loss: 0.1759 - val_accuracy: 0.9720 - val_loss: 0.0820\n",
      "Epoch 3/20\n",
      "\u001B[1m858/859\u001B[0m \u001B[32m━━━━━━━━━━━━━━━━━━━\u001B[0m\u001B[37m━\u001B[0m \u001B[1m0s\u001B[0m 82ms/step - accuracy: 0.9580 - loss: 0.1288\n",
      "Epoch 3: val_loss improved from 0.08203 to 0.07626, saving model to xception_after_unfreezing_final.h5\n"
     ]
    },
    {
     "name": "stderr",
     "output_type": "stream",
     "text": [
      "WARNING:absl:You are saving your model as an HDF5 file via `model.save()` or `keras.saving.save_model(model)`. This file format is considered legacy. We recommend using instead the native Keras format, e.g. `model.save('my_model.keras')` or `keras.saving.save_model(model, 'my_model.keras')`. \n"
     ]
    },
    {
     "name": "stdout",
     "output_type": "stream",
     "text": [
      "\u001B[1m859/859\u001B[0m \u001B[32m━━━━━━━━━━━━━━━━━━━━\u001B[0m\u001B[37m\u001B[0m \u001B[1m84s\u001B[0m 98ms/step - accuracy: 0.9626 - loss: 0.1134 - val_accuracy: 0.9761 - val_loss: 0.0763\n",
      "Epoch 4/20\n",
      "\u001B[1m858/859\u001B[0m \u001B[32m━━━━━━━━━━━━━━━━━━━\u001B[0m\u001B[37m━\u001B[0m \u001B[1m0s\u001B[0m 81ms/step - accuracy: 0.9685 - loss: 0.0876\n",
      "Epoch 4: val_loss improved from 0.07626 to 0.04700, saving model to xception_after_unfreezing_final.h5\n"
     ]
    },
    {
     "name": "stderr",
     "output_type": "stream",
     "text": [
      "WARNING:absl:You are saving your model as an HDF5 file via `model.save()` or `keras.saving.save_model(model)`. This file format is considered legacy. We recommend using instead the native Keras format, e.g. `model.save('my_model.keras')` or `keras.saving.save_model(model, 'my_model.keras')`. \n"
     ]
    },
    {
     "name": "stdout",
     "output_type": "stream",
     "text": [
      "\u001B[1m859/859\u001B[0m \u001B[32m━━━━━━━━━━━━━━━━━━━━\u001B[0m\u001B[37m\u001B[0m \u001B[1m84s\u001B[0m 97ms/step - accuracy: 0.9732 - loss: 0.0760 - val_accuracy: 0.9854 - val_loss: 0.0470\n",
      "Epoch 5/20\n",
      "\u001B[1m858/859\u001B[0m \u001B[32m━━━━━━━━━━━━━━━━━━━\u001B[0m\u001B[37m━\u001B[0m \u001B[1m0s\u001B[0m 81ms/step - accuracy: 0.9777 - loss: 0.0804\n",
      "Epoch 5: val_loss did not improve from 0.04700\n",
      "\u001B[1m859/859\u001B[0m \u001B[32m━━━━━━━━━━━━━━━━━━━━\u001B[0m\u001B[37m\u001B[0m \u001B[1m83s\u001B[0m 97ms/step - accuracy: 0.9814 - loss: 0.0593 - val_accuracy: 0.9796 - val_loss: 0.0647\n",
      "Epoch 6/20\n",
      "\u001B[1m858/859\u001B[0m \u001B[32m━━━━━━━━━━━━━━━━━━━\u001B[0m\u001B[37m━\u001B[0m \u001B[1m0s\u001B[0m 86ms/step - accuracy: 0.9827 - loss: 0.0508\n",
      "Epoch 6: val_loss improved from 0.04700 to 0.03352, saving model to xception_after_unfreezing_final.h5\n"
     ]
    },
    {
     "name": "stderr",
     "output_type": "stream",
     "text": [
      "WARNING:absl:You are saving your model as an HDF5 file via `model.save()` or `keras.saving.save_model(model)`. This file format is considered legacy. We recommend using instead the native Keras format, e.g. `model.save('my_model.keras')` or `keras.saving.save_model(model, 'my_model.keras')`. \n"
     ]
    },
    {
     "name": "stdout",
     "output_type": "stream",
     "text": [
      "\u001B[1m859/859\u001B[0m \u001B[32m━━━━━━━━━━━━━━━━━━━━\u001B[0m\u001B[37m\u001B[0m \u001B[1m88s\u001B[0m 102ms/step - accuracy: 0.9850 - loss: 0.0472 - val_accuracy: 0.9889 - val_loss: 0.0335\n",
      "Epoch 7/20\n",
      "\u001B[1m858/859\u001B[0m \u001B[32m━━━━━━━━━━━━━━━━━━━\u001B[0m\u001B[37m━\u001B[0m \u001B[1m0s\u001B[0m 87ms/step - accuracy: 0.9897 - loss: 0.0314\n",
      "Epoch 7: val_loss improved from 0.03352 to 0.02961, saving model to xception_after_unfreezing_final.h5\n"
     ]
    },
    {
     "name": "stderr",
     "output_type": "stream",
     "text": [
      "WARNING:absl:You are saving your model as an HDF5 file via `model.save()` or `keras.saving.save_model(model)`. This file format is considered legacy. We recommend using instead the native Keras format, e.g. `model.save('my_model.keras')` or `keras.saving.save_model(model, 'my_model.keras')`. \n"
     ]
    },
    {
     "name": "stdout",
     "output_type": "stream",
     "text": [
      "\u001B[1m859/859\u001B[0m \u001B[32m━━━━━━━━━━━━━━━━━━━━\u001B[0m\u001B[37m\u001B[0m \u001B[1m90s\u001B[0m 105ms/step - accuracy: 0.9885 - loss: 0.0353 - val_accuracy: 0.9878 - val_loss: 0.0296\n",
      "Epoch 8/20\n",
      "\u001B[1m858/859\u001B[0m \u001B[32m━━━━━━━━━━━━━━━━━━━\u001B[0m\u001B[37m━\u001B[0m \u001B[1m0s\u001B[0m 80ms/step - accuracy: 0.9849 - loss: 0.0474\n",
      "Epoch 8: val_loss did not improve from 0.02961\n",
      "\u001B[1m859/859\u001B[0m \u001B[32m━━━━━━━━━━━━━━━━━━━━\u001B[0m\u001B[37m\u001B[0m \u001B[1m83s\u001B[0m 96ms/step - accuracy: 0.9883 - loss: 0.0357 - val_accuracy: 0.9901 - val_loss: 0.0351\n",
      "Epoch 9/20\n",
      "\u001B[1m858/859\u001B[0m \u001B[32m━━━━━━━━━━━━━━━━━━━\u001B[0m\u001B[37m━\u001B[0m \u001B[1m0s\u001B[0m 80ms/step - accuracy: 0.9903 - loss: 0.0316\n",
      "Epoch 9: val_loss did not improve from 0.02961\n",
      "\u001B[1m859/859\u001B[0m \u001B[32m━━━━━━━━━━━━━━━━━━━━\u001B[0m\u001B[37m\u001B[0m \u001B[1m82s\u001B[0m 96ms/step - accuracy: 0.9911 - loss: 0.0292 - val_accuracy: 0.9878 - val_loss: 0.0530\n",
      "Epoch 10/20\n",
      "\u001B[1m858/859\u001B[0m \u001B[32m━━━━━━━━━━━━━━━━━━━\u001B[0m\u001B[37m━\u001B[0m \u001B[1m0s\u001B[0m 83ms/step - accuracy: 0.9929 - loss: 0.0269\n",
      "Epoch 10: val_loss did not improve from 0.02961\n",
      "\u001B[1m859/859\u001B[0m \u001B[32m━━━━━━━━━━━━━━━━━━━━\u001B[0m\u001B[37m\u001B[0m \u001B[1m85s\u001B[0m 98ms/step - accuracy: 0.9920 - loss: 0.0278 - val_accuracy: 0.9883 - val_loss: 0.0542\n"
     ]
    }
   ],
   "execution_count": 25
  },
  {
   "metadata": {
    "ExecuteTime": {
     "end_time": "2025-09-18T12:14:50.375836Z",
     "start_time": "2025-09-18T12:14:30.784078Z"
    }
   },
   "cell_type": "code",
   "source": [
    "xception_test = load_model(\"xception_after_unfreezing_final.h5\")\n",
    "test_ds = tf.keras.utils.image_dataset_from_directory(\n",
    "    \"Brain_Tumor_new/Testing\",\n",
    "    labels=\"inferred\",            # infer from subfolders\n",
    "    label_mode=\"categorical\",     # ✅ one-hot encode labels\n",
    "    batch_size=8,\n",
    "    image_size=(299, 299),\n",
    "    shuffle=False                 # don’t shuffle test set\n",
    ")\n",
    "test_ds_xception = test_ds.map(preprocess_xception_val, num_parallel_calls=tf.data.AUTOTUNE)\n",
    "test_ds_xception = test_ds_xception.prefetch(tf.data.AUTOTUNE)\n",
    "test_loss, test_acc = xception_test.evaluate(test_ds_xception)\n",
    "print(f\"Test loss: {test_loss:.4f}\")\n",
    "print(f\"Test accuracy: {test_acc:.4f}\")"
   ],
   "id": "ae190d34e524f2dd",
   "outputs": [
    {
     "name": "stderr",
     "output_type": "stream",
     "text": [
      "WARNING:absl:Compiled the loaded model, but the compiled metrics have yet to be built. `model.compile_metrics` will be empty until you train or evaluate the model.\n"
     ]
    },
    {
     "name": "stdout",
     "output_type": "stream",
     "text": [
      "Found 1705 files belonging to 4 classes.\n",
      "\u001B[1m214/214\u001B[0m \u001B[32m━━━━━━━━━━━━━━━━━━━━\u001B[0m\u001B[37m\u001B[0m \u001B[1m19s\u001B[0m 80ms/step - accuracy: 0.9449 - loss: 0.3838\n",
      "Test loss: 0.3838\n",
      "Test accuracy: 0.9449\n"
     ]
    }
   ],
   "execution_count": 27
  },
  {
   "metadata": {
    "ExecuteTime": {
     "end_time": "2025-09-18T12:17:39.041296Z",
     "start_time": "2025-09-18T12:17:21.314145Z"
    }
   },
   "cell_type": "code",
   "source": [
    "import numpy as np\n",
    "import matplotlib.pyplot as plt\n",
    "import seaborn as sns\n",
    "from sklearn.metrics import confusion_matrix, classification_report\n",
    "\n",
    "# 1. Get true labels and predictions\n",
    "y_true = np.concatenate([y for x, y in test_ds_xception], axis=0)   # one-hot labels\n",
    "y_true = np.argmax(y_true, axis=1)  # convert one-hot to class indices\n",
    "\n",
    "y_pred_probs = xception_test.predict(test_ds_xception)\n",
    "y_pred = np.argmax(y_pred_probs, axis=1)\n",
    "\n",
    "# 2. Compute confusion matrix\n",
    "cm = confusion_matrix(y_true, y_pred)\n",
    "\n",
    "# 3. Get class names from dataset\n",
    "class_names = test_ds.class_names   # same order as dataset\n",
    "\n",
    "# 4. Plot heatmap\n",
    "plt.figure(figsize=(8, 6))\n",
    "sns.heatmap(cm, annot=True, fmt=\"d\", cmap=\"Blues\",\n",
    "            xticklabels=class_names, yticklabels=class_names)\n",
    "plt.xlabel(\"Predicted\")\n",
    "plt.ylabel(\"True\")\n",
    "plt.title(\"Confusion Matrix\")\n",
    "plt.show()\n",
    "\n",
    "# 5. Print detailed report\n",
    "print(classification_report(y_true, y_pred, target_names=class_names))\n"
   ],
   "id": "5ae6f64458e94a33",
   "outputs": [
    {
     "name": "stdout",
     "output_type": "stream",
     "text": [
      "\u001B[1m214/214\u001B[0m \u001B[32m━━━━━━━━━━━━━━━━━━━━\u001B[0m\u001B[37m\u001B[0m \u001B[1m16s\u001B[0m 68ms/step\n"
     ]
    },
    {
     "data": {
      "text/plain": [
       "<Figure size 800x600 with 2 Axes>"
      ],
      "image/png": "[encoded data removed]"
     },
     "metadata": {},
     "output_type": "display_data",
     "jetTransient": {
      "display_id": null
     }
    },
    {
     "name": "stdout",
     "output_type": "stream",
     "text": [
      "                  precision    recall  f1-score   support\n",
      "\n",
      "    glioma_tumor       0.99      0.83      0.90       400\n",
      "meningioma_tumor       0.89      0.99      0.94       421\n",
      "        no_tumor       0.93      1.00      0.96       510\n",
      " pituitary_tumor       0.99      0.94      0.97       374\n",
      "\n",
      "        accuracy                           0.94      1705\n",
      "       macro avg       0.95      0.94      0.94      1705\n",
      "    weighted avg       0.95      0.94      0.94      1705\n",
      "\n"
     ]
    }
   ],
   "execution_count": 28
  }
 ],
 "metadata": {
  "kernelspec": {
   "display_name": "Python 3",
   "language": "python",
   "name": "python3"
  },
  "language_info": {
   "codemirror_mode": {
    "name": "ipython",
    "version": 2
   },
   "file_extension": ".py",
   "mimetype": "text/x-python",
   "name": "python",
   "nbconvert_exporter": "python",
   "pygments_lexer": "ipython2",
   "version": "2.7.6"
  }
 },
 "nbformat": 4,
 "nbformat_minor": 5
}
